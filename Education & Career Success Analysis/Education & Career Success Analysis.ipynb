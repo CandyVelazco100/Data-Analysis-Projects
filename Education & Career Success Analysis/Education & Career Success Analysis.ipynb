{
 "cells": [
  {
   "cell_type": "markdown",
   "metadata": {},
   "source": [
    "<div style=\"\n",
    "    display: inline-block;\n",
    "    background: linear-gradient(135deg, #F6D19A, #F86247);\n",
    "    color: white;\n",
    "    font-size: 1.8rem;\n",
    "    font-weight: bold;\n",
    "    padding: 15px 30px;\n",
    "    border-radius: 12px;\n",
    "    text-align: center;\n",
    "    border: 5px solid #FFE7C6;\n",
    "    box-shadow: 4px 4px 10px rgba(0, 0, 0, 0.2);\n",
    "    letter-spacing: 1px;\n",
    "\">\n",
    "    🎓 Education & Career Success Analysis 🚀\n",
    "</div>"
   ]
  },
  {
   "cell_type": "markdown",
   "metadata": {},
   "source": [
    "#### <div style=\"display: inline-block; background: #74B8CE; color: white; font-size: 1.2rem; font-weight: bold; padding: 10px 20px; border-radius: 8px; box-shadow: 3px 3px 8px rgba(0, 0, 0, 0.2); \"> 🛠 <b>1 |</b> Data Loading </div>\n"
   ]
  }
 ],
 "metadata": {
  "language_info": {
   "name": "python"
  }
 },
 "nbformat": 4,
 "nbformat_minor": 2
}
